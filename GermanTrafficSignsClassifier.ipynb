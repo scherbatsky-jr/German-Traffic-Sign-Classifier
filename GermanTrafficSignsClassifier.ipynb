{
 "cells": [
  {
   "cell_type": "markdown",
   "metadata": {},
   "source": [
    "<h1>German Traffic Sign Classifier</h1>\n",
    "<h3>The program classifies the traffic signs images into 43 different classes using TensorFlow</h3>"
   ]
  },
  {
   "cell_type": "code",
   "execution_count": 1,
   "metadata": {},
   "outputs": [],
   "source": [
    "import tensorflow as tf\n",
    "from tensorflow import keras\n",
    "import pickle\n",
    "import csv\n",
    "import os\n",
    "import random\n",
    "import cv2\n",
    "from sklearn.utils import shuffle\n",
    "import skimage.morphology as morp\n",
    "from skimage.filters import rank\n",
    "from tensorflow.contrib.layers import flatten\n",
    "from sklearn.metrics import confusion_matrix\n",
    "import numpy as np\n",
    "import matplotlib.pyplot as plt\n",
    "import tkinter as tk\n",
    "from tkinter.filedialog import askopenfilename\n",
    "from PIL import Image"
   ]
  },
  {
   "cell_type": "markdown",
   "metadata": {},
   "source": [
    "<h3> We now load the dataset into the program using pickle library from python</h3>"
   ]
  },
  {
   "cell_type": "code",
   "execution_count": 2,
   "metadata": {},
   "outputs": [
    {
     "name": "stdout",
     "output_type": "stream",
     "text": [
      "No. of training examples: 34799\n",
      "No. of training examples: 4410\n",
      "No. of training examples: 12630\n"
     ]
    }
   ],
   "source": [
    "#Loading the data into the program\n",
    "training_file = \"train.p\" #training dataset\n",
    "validation_file= \"valid.p\" #validation dataset\n",
    "testing_file = \"test.p\" #testing dataset\n",
    "\n",
    "with open(training_file, mode='rb') as f:\n",
    "    train = pickle.load(f)\n",
    "with open(validation_file, mode='rb') as f:\n",
    "    valid = pickle.load(f)\n",
    "with open(testing_file, mode='rb') as f:\n",
    "    test = pickle.load(f)\n",
    "\n",
    "#loading the traffic signs classes    \n",
    "signs = []\n",
    "with open('signnames.csv', 'r') as csvfile:\n",
    "    signnames = csv.reader(csvfile, delimiter=',')\n",
    "    next(signnames,None)\n",
    "    for row in signnames:\n",
    "        signs.append(row[1])\n",
    "    csvfile.close()\n",
    "\n",
    "#loading images and labels into the arrays\n",
    "X_train, y_train = train['features'], train['labels']\n",
    "X_valid, y_valid = valid['features'], valid['labels']\n",
    "X_test, y_test = test['features'], test['labels']\n",
    "\n",
    "X_train, y_train = shuffle(X_train, y_train) #shuffling the training set for randomness\n",
    "\n",
    "print(\"No. of training examples: \"+str(y_train.size))\n",
    "print(\"No. of training examples: \"+str(y_valid.size))\n",
    "print(\"No. of training examples: \"+str(y_test.size))\n",
    "    "
   ]
  },
  {
   "cell_type": "markdown",
   "metadata": {},
   "source": [
    "<h3> We preprocess the images into grayscale and normalize them for better result</h3>"
   ]
  },
  {
   "cell_type": "code",
   "execution_count": 3,
   "metadata": {},
   "outputs": [],
   "source": [
    "def gray_scale(image):  \n",
    "    \n",
    "    image = image.astype(np.float32)\n",
    "    return cv2.cvtColor(image, cv2.COLOR_RGB2GRAY)\n",
    "\n",
    "def normalize_images(image):\n",
    "    image = np.divide(image,255)\n",
    "    return image"
   ]
  },
  {
   "cell_type": "code",
   "execution_count": 4,
   "metadata": {},
   "outputs": [],
   "source": [
    "gray_train =  list(map(gray_scale, X_train))\n",
    "\n",
    "n_training = X_train.shape\n",
    "normalized_images = np.zeros((n_training[0], n_training[1], n_training[2]))\n",
    "for i, img in enumerate(gray_train):\n",
    "    normalized_images[i] = normalize_images(img)\n",
    "final_gray_train = np.asarray(normalized_images)  #final input for training in the model\n",
    "\n",
    "gray_valid = list(map(gray_scale,X_valid))\n",
    "n_valid = X_valid.shape\n",
    "normalized_valid = np.zeros((n_valid[0], n_valid[1], n_valid[2]))\n",
    "for i, img in enumerate(gray_valid):\n",
    "    normalized_valid[i] = normalize_images(img)\n",
    "final_gray_valid = np.asarray(normalized_valid)\n",
    "\n",
    "gray_test =  list(map(gray_scale, X_test))\n",
    "n_test = X_test.shape\n",
    "normalized_test = np.zeros((n_test[0], n_test[1], n_test[2]))\n",
    "for i, img in enumerate(gray_test):\n",
    "    normalized_test[i] = normalize_images(img)\n",
    "\n",
    "final_gray_test = np.asarray(normalized_test)"
   ]
  },
  {
   "cell_type": "markdown",
   "metadata": {},
   "source": [
    "<h3> The convolutional neural network has been created using keras library. The model built for this program has one input layer, 6 hidden layers and one output layer. Since, the input images are of size 32x32, the total input required for the network is 1024. Hence, the input layer has 1024 nodes. Also, the number of traffic sign classes is 43. Therefore, the output layer has 43 nodes. </h3> \n",
    "<h3> To minimize the loss function, we have used Adam Optimizer, and the metrics used is accuracy</h3>\n",
    "<h3> The number of epochs for training is 20, and the batch size of images during training is 100</h3>"
   ]
  },
  {
   "cell_type": "code",
   "execution_count": 5,
   "metadata": {},
   "outputs": [
    {
     "name": "stdout",
     "output_type": "stream",
     "text": [
      "Epoch 1/20\n",
      "34799/34799 [==============================] - 9s 268us/step - loss: 2.5239 - acc: 0.2981 3s - l\n",
      "Epoch 2/20\n",
      "34799/34799 [==============================] - 5s 152us/step - loss: 1.3298 - acc: 0.5812\n",
      "Epoch 3/20\n",
      "34799/34799 [==============================] - 4s 118us/step - loss: 0.8412 - acc: 0.7378\n",
      "Epoch 4/20\n",
      "34799/34799 [==============================] - 4s 121us/step - loss: 0.6263 - acc: 0.8044\n",
      "Epoch 5/20\n",
      "34799/34799 [==============================] - 5s 137us/step - loss: 0.4923 - acc: 0.8459\n",
      "Epoch 6/20\n",
      "34799/34799 [==============================] - 4s 123us/step - loss: 0.4149 - acc: 0.8707\n",
      "Epoch 7/20\n",
      "34799/34799 [==============================] - 4s 118us/step - loss: 0.3395 - acc: 0.8942\n",
      "Epoch 8/20\n",
      "34799/34799 [==============================] - 4s 117us/step - loss: 0.3182 - acc: 0.8996\n",
      "Epoch 9/20\n",
      "34799/34799 [==============================] - 4s 120us/step - loss: 0.2784 - acc: 0.9123\n",
      "Epoch 10/20\n",
      "34799/34799 [==============================] - 4s 117us/step - loss: 0.2558 - acc: 0.9205\n",
      "Epoch 11/20\n",
      "34799/34799 [==============================] - 4s 120us/step - loss: 0.2193 - acc: 0.9318\n",
      "Epoch 12/20\n",
      "34799/34799 [==============================] - 4s 118us/step - loss: 0.2174 - acc: 0.9323\n",
      "Epoch 13/20\n",
      "34799/34799 [==============================] - 4s 118us/step - loss: 0.2166 - acc: 0.9297 1s - loss: \n",
      "Epoch 14/20\n",
      "34799/34799 [==============================] - 4s 120us/step - loss: 0.1908 - acc: 0.9391\n",
      "Epoch 15/20\n",
      "34799/34799 [==============================] - 4s 125us/step - loss: 0.2152 - acc: 0.9318\n",
      "Epoch 16/20\n",
      "34799/34799 [==============================] - 4s 125us/step - loss: 0.1688 - acc: 0.9477\n",
      "Epoch 17/20\n",
      "34799/34799 [==============================] - 4s 118us/step - loss: 0.1472 - acc: 0.9532\n",
      "Epoch 18/20\n",
      "34799/34799 [==============================] - 4s 120us/step - loss: 0.1552 - acc: 0.9519\n",
      "Epoch 19/20\n",
      "34799/34799 [==============================] - 4s 117us/step - loss: 0.1516 - acc: 0.9519\n",
      "Epoch 20/20\n",
      "34799/34799 [==============================] - 4s 117us/step - loss: 0.1122 - acc: 0.9647\n"
     ]
    },
    {
     "data": {
      "text/plain": [
       "<tensorflow.python.keras._impl.keras.callbacks.History at 0x187804694a8>"
      ]
     },
     "execution_count": 5,
     "metadata": {},
     "output_type": "execute_result"
    }
   ],
   "source": [
    "model = keras.Sequential([\n",
    "keras.layers.Flatten(input_shape=(32, 32)),\n",
    "keras.layers.Dense(2048, activation=tf.nn.relu),\n",
    "keras.layers.Dense(1024, activation=tf.nn.relu),\n",
    "keras.layers.Dense(512, activation=tf.nn.relu),\n",
    "keras.layers.Dense(256, activation=tf.nn.relu),\n",
    "keras.layers.Dense(128, activation=tf.nn.relu),\n",
    "keras.layers.Dense(64, activation=tf.nn.relu),\n",
    "keras.layers.Dense(43, activation=tf.nn.softmax)\n",
    "])\n",
    "model.compile(optimizer='adam', \n",
    "          loss='sparse_categorical_crossentropy',\n",
    "          metrics=['accuracy'])\n",
    "model.fit(final_gray_train, y_train, epochs=20,batch_size=100) #start training the network\n",
    "    \n",
    "    \n",
    "    "
   ]
  },
  {
   "cell_type": "code",
   "execution_count": 6,
   "metadata": {},
   "outputs": [
    {
     "name": "stdout",
     "output_type": "stream",
     "text": [
      "4410/4410 [==============================] - 0s 87us/step\n",
      "Validation set accuracy:  0.7804988662266678\n",
      "12630/12630 [==============================] - 1s 73us/step\n",
      "\n",
      "Testing set accuracy:  0.7933491686743965\n"
     ]
    }
   ],
   "source": [
    "valid_loss,valid_acc = model.evaluate(final_gray_valid,y_valid) #start evaluation by validation set\n",
    "print(\"Validation set accuracy: \",str(valid_acc))\n",
    "test_loss,test_acc = model.evaluate(final_gray_test,y_test) #start evaluation by testing set\n",
    "print(\"\\nTesting set accuracy: \",str(test_acc))\n",
    "    "
   ]
  },
  {
   "cell_type": "markdown",
   "metadata": {},
   "source": [
    "<h3> We created a interface for testing random images through the program using tkinter library</h3>"
   ]
  },
  {
   "cell_type": "code",
   "execution_count": 14,
   "metadata": {},
   "outputs": [
    {
     "data": {
      "image/png": "[encoded data removed]",
      "text/plain": [
       "<Figure size 432x288 with 2 Axes>"
      ]
     },
     "metadata": {
      "needs_background": "light"
     },
     "output_type": "display_data"
    },
    {
     "data": {
      "image/png": "[encoded data removed]",
      "text/plain": [
       "<Figure size 432x288 with 2 Axes>"
      ]
     },
     "metadata": {
      "needs_background": "light"
     },
     "output_type": "display_data"
    }
   ],
   "source": [
    "import tkinter as tk\n",
    "from tkinter.filedialog import askopenfilename\n",
    "import numpy as np\n",
    "from PIL import Image\n",
    "\n",
    "def predictImage(filename):\n",
    "    test_image = []\n",
    "    uploaded_img = cv2.imread(filename)\n",
    "    uploaded_img = cv2.resize(uploaded_img, (32,32))\n",
    "    uploaded_img = cv2.cvtColor(uploaded_img, cv2.COLOR_BGR2RGB)\n",
    "    test_image.append(uploaded_img)\n",
    "    finalnewtest = np.asarray(test_image)\n",
    "    finalnewtest = list(map(gray_scale, finalnewtest))\n",
    "    finalnewtest = np.asarray(finalnewtest)\n",
    "    n_testimg = finalnewtest.shape\n",
    "    normalized_testimg = np.zeros((n_testimg[0], n_testimg[1], n_testimg[2]))\n",
    "    for i, img in enumerate(finalnewtest):\n",
    "        normalized_testimg[i] = normalize_images(img)\n",
    "    finalnewtest2 = np.asarray(normalized_testimg)\n",
    "    p = model.predict(finalnewtest2)\n",
    "    s = np.argsort(p[0])[::-1]\n",
    "    p_values = [None]*5\n",
    "    p_labels = [None]*5\n",
    "    count = 0\n",
    "    for i in s:\n",
    "        p_values[count] = p[0][i]\n",
    "        p_labels[count] = signs[i]\n",
    "        count +=1\n",
    "        if count == 5:\n",
    "            break\n",
    "    \n",
    "    plt.subplot(2,1,1)\n",
    "    plt.title(\"Uploaded Sign\")\n",
    "    plt.imshow(uploaded_img)\n",
    "    plt.subplot(2,1,2)\n",
    "    plt.barh(p_labels,p_values)\n",
    "    plt.ylabel('Signs')\n",
    "    plt.xlabel('Prediction Score')\n",
    "    plt.title(\"Prediction\")\n",
    "    plt.tight_layout()\n",
    "    plt.show()\n",
    "    return signs[np.argmax(p[0])],p_values,p_labels\n",
    "\n",
    "\n",
    "def clearImage():\n",
    "    global imgLabel\n",
    "    global predictLabel\n",
    "    global clearButton\n",
    "    global frame\n",
    "    global p_label\n",
    "    frame.pack_forget()\n",
    "    imgLabel.pack_forget()\n",
    "    predictLabel.pack_forget()\n",
    "    clearButton.pack_forget()\n",
    "    for i in range(4):\n",
    "        p_label[i].pack_forget()\n",
    "        \n",
    "def processImage():\n",
    "    global sess\n",
    "    global predictLabel\n",
    "    global clearButton\n",
    "    global top\n",
    "    global filename\n",
    "    global p_label\n",
    "    final_result,p_values,p_labels = predictImage(filename)\n",
    "    result = \"Prediction for above image: \"+final_result+\"\\n Here are the top four predictions with their scores\"\n",
    "    predictLabel = tk.Label(top, text = result,font=('Seogue UI',15))\n",
    "    predictLabel.pack(pady=10)\n",
    "    p_label = [None]*5\n",
    "    for i in range(4):\n",
    "        p_label[i] = tk.Label(top, text = p_labels[i]+\": \"+str(p_values[i]))\n",
    "        p_label[i].pack(pady = 5)\n",
    "    \n",
    "    \n",
    "    clearButton = tk.Button(top, text = \"Clear Image\",command = clearImage)\n",
    "    clearButton.pack(pady=10)\n",
    "    \n",
    "def uploadImage():\n",
    "    global top\n",
    "    global imgLabel\n",
    "    global filename\n",
    "    global frame\n",
    "    filename = askopenfilename()\n",
    "    img = tk.PhotoImage(file = filename)\n",
    "    img = img.zoom(15)\n",
    "    img = img.subsample(72)\n",
    "    \n",
    "    frame = tk.Frame(top, width=150, height=150, background='white')\n",
    "    frame.pack_propagate(0)    \n",
    "    frame.pack(pady = 10)\n",
    "    imgLabel = tk.Label(frame, image = img)\n",
    "    imgLabel.img = img\n",
    "    imgLabel.pack(pady = 10)\n",
    "    processImage()\n",
    "    \n",
    "    \n",
    "def startGUI():\n",
    "    global top\n",
    "    top = tk.Tk()\n",
    "    top.title(\"German Traffic Signs Classifier\")\n",
    "    top.geometry(\"800x550\")\n",
    "    top.resizable(0,0)\n",
    "\n",
    "    title_label = tk.Label(top, text = \"German Traffic Signs Classifier\", font=('Seogue UI',20))\n",
    "    title_label.pack(pady = 5)\n",
    "\n",
    "    descripLabel = tk.Label(top, text = \"Please upload an image to test the program\",font = ('Seogue UI',15))\n",
    "    descripLabel.pack(pady = 10)\n",
    "\n",
    "    uploadButton = tk.Button(top, text = 'Upload a test image', command = uploadImage)\n",
    "    uploadButton.pack(pady = 10)\n",
    "    top.mainloop()\n",
    "\n",
    "startGUI()"
   ]
  },
  {
   "cell_type": "code",
   "execution_count": null,
   "metadata": {},
   "outputs": [],
   "source": []
  },
  {
   "cell_type": "code",
   "execution_count": null,
   "metadata": {},
   "outputs": [],
   "source": []
  }
 ],
 "metadata": {
  "kernelspec": {
   "display_name": "Python 3",
   "language": "python",
   "name": "python3"
  },
  "language_info": {
   "codemirror_mode": {
    "name": "ipython",
    "version": 3
   },
   "file_extension": ".py",
   "mimetype": "text/x-python",
   "name": "python",
   "nbconvert_exporter": "python",
   "pygments_lexer": "ipython3",
   "version": "3.6.8"
  }
 },
 "nbformat": 4,
 "nbformat_minor": 2
}
